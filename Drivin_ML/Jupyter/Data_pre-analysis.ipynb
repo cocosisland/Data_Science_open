{
 "cells": [
  {
   "cell_type": "markdown",
   "metadata": {},
   "source": [
    "## 1 - Vérification de la distribution des critical events dans les différents sets\n",
    "## 2 - Choix de la méthode d'interpolation"
   ]
  },
  {
   "cell_type": "markdown",
   "metadata": {},
   "source": [
    "L'idée est de visualiser la répartition des critical events dans chacun des sets, car une répartition inhomogène aura forcément un impact sur les résultats du machine learning, et de choisir une méthode d'interpolation convenable pour les données de speed_network, accélérations et gyro."
   ]
  },
  {
   "cell_type": "code",
   "execution_count": 1,
   "metadata": {
    "id": "FVkzy8PbItiX"
   },
   "outputs": [],
   "source": [
    "import os\n",
    "import pandas as pd \n",
    "import numpy as np\n",
    "import seaborn as sns\n",
    "import glob\n",
    "from tqdm import tqdm\n",
    "import matplotlib.pyplot as plt\n",
    "# keep all the visualizations into the notebook file :\n",
    "%matplotlib inline\n",
    "import tensorflow as tf\n",
    "from sklearn.model_selection import train_test_split"
   ]
  },
  {
   "cell_type": "code",
   "execution_count": 2,
   "metadata": {
    "id": "WtNh2jm97gsY"
   },
   "outputs": [],
   "source": [
    "bag = glob.glob('datasets_bag/*.csv')"
   ]
  },
  {
   "cell_type": "markdown",
   "metadata": {},
   "source": [
    "### 1er test : lecture normale des fichiers et split ratio 80:20 pour le train:test"
   ]
  },
  {
   "cell_type": "code",
   "execution_count": 3,
   "metadata": {},
   "outputs": [],
   "source": [
    "df_list1 = []\n",
    "\n",
    "for minifile in bag:\n",
    "    df = pd.read_csv(minifile)\n",
    "    df_list1.append(df)\n",
    "df0 = pd.concat(df_list1)"
   ]
  },
  {
   "cell_type": "code",
   "execution_count": 3,
   "metadata": {
    "id": "TYNgiPGc54By"
   },
   "outputs": [],
   "source": [
    "# df_list1 = []\n",
    "# df_list2 = []\n",
    "\n",
    "# for minifile in bag:\n",
    "#     df = pd.read_csv(minifile)\n",
    "#     df_list1.append(df)\n",
    "# df1 = pd.concat(df_list1)\n",
    "\n",
    "# np.random.shuffle(bag)\n",
    "\n",
    "# for minifile in bag:\n",
    "#     df = pd.read_csv(minifile)\n",
    "#     df_list2.append(df)\n",
    "# df2 = pd.concat(df_list2)\n",
    "\n",
    "# df0 = pd.concat([df1, df2])"
   ]
  },
  {
   "cell_type": "markdown",
   "metadata": {},
   "source": [
    "En doublant la taille du dataframe en le dupliquant, on s'expose probablement à un overfitting donc on laisse tomber cette idée (haut).\n",
    "En tentant cette méthode, le modèle semblait overfitter (excellents train et validation scores, horrible test score)"
   ]
  },
  {
   "cell_type": "code",
   "execution_count": 4,
   "metadata": {
    "colab": {
     "base_uri": "https://localhost:8080/"
    },
    "id": "Low3BUvB2iSL",
    "outputId": "f862a23c-8c2e-49c0-961c-c77f37ba66d9"
   },
   "outputs": [
    {
     "data": {
      "text/plain": [
       "389709"
      ]
     },
     "execution_count": 4,
     "metadata": {},
     "output_type": "execute_result"
    }
   ],
   "source": [
    "len(df0)"
   ]
  },
  {
   "cell_type": "code",
   "execution_count": 5,
   "metadata": {
    "colab": {
     "base_uri": "https://localhost:8080/"
    },
    "id": "YFSpSL_W54Kp",
    "outputId": "dd96c317-6b34-4d77-8b6e-c127e68143e7"
   },
   "outputs": [
    {
     "data": {
      "text/plain": [
       "0    389695\n",
       "1        14\n",
       "Name: target_critical_event, dtype: int64"
      ]
     },
     "execution_count": 5,
     "metadata": {},
     "output_type": "execute_result"
    }
   ],
   "source": [
    "df0['target_critical_event'].value_counts()"
   ]
  },
  {
   "cell_type": "code",
   "execution_count": 6,
   "metadata": {
    "colab": {
     "base_uri": "https://localhost:8080/",
     "height": 423
    },
    "id": "NbWXwWiq54OU",
    "outputId": "368d7f7c-74dd-4487-805c-748d6691161d"
   },
   "outputs": [
    {
     "data": {
      "text/html": [
       "<div>\n",
       "<style scoped>\n",
       "    .dataframe tbody tr th:only-of-type {\n",
       "        vertical-align: middle;\n",
       "    }\n",
       "\n",
       "    .dataframe tbody tr th {\n",
       "        vertical-align: top;\n",
       "    }\n",
       "\n",
       "    .dataframe thead th {\n",
       "        text-align: right;\n",
       "    }\n",
       "</style>\n",
       "<table border=\"1\" class=\"dataframe\">\n",
       "  <thead>\n",
       "    <tr style=\"text-align: right;\">\n",
       "      <th></th>\n",
       "      <th>vtti.file_id</th>\n",
       "      <th>vtti.accel_x</th>\n",
       "      <th>vtti.accel_y</th>\n",
       "      <th>vtti.accel_z</th>\n",
       "      <th>vtti.gyro_x</th>\n",
       "      <th>vtti.gyro_y</th>\n",
       "      <th>vtti.gyro_z</th>\n",
       "      <th>vtti.speed_network</th>\n",
       "      <th>target_critical_event</th>\n",
       "    </tr>\n",
       "  </thead>\n",
       "  <tbody>\n",
       "    <tr>\n",
       "      <th>0</th>\n",
       "      <td>2790-1</td>\n",
       "      <td>0.0174</td>\n",
       "      <td>-0.020300</td>\n",
       "      <td>-0.983100</td>\n",
       "      <td>0.000000</td>\n",
       "      <td>-0.325195</td>\n",
       "      <td>0.000000</td>\n",
       "      <td>0.921875</td>\n",
       "      <td>0</td>\n",
       "    </tr>\n",
       "    <tr>\n",
       "      <th>1</th>\n",
       "      <td>2790-1</td>\n",
       "      <td>-0.0087</td>\n",
       "      <td>-0.020300</td>\n",
       "      <td>-0.983100</td>\n",
       "      <td>0.000000</td>\n",
       "      <td>-0.325195</td>\n",
       "      <td>0.000000</td>\n",
       "      <td>1.062500</td>\n",
       "      <td>0</td>\n",
       "    </tr>\n",
       "    <tr>\n",
       "      <th>2</th>\n",
       "      <td>2790-1</td>\n",
       "      <td>-0.0145</td>\n",
       "      <td>-0.023200</td>\n",
       "      <td>-0.986000</td>\n",
       "      <td>0.000000</td>\n",
       "      <td>-0.325195</td>\n",
       "      <td>0.000000</td>\n",
       "      <td>1.140625</td>\n",
       "      <td>0</td>\n",
       "    </tr>\n",
       "    <tr>\n",
       "      <th>3</th>\n",
       "      <td>2790-1</td>\n",
       "      <td>-0.0145</td>\n",
       "      <td>-0.020300</td>\n",
       "      <td>-0.986000</td>\n",
       "      <td>0.000000</td>\n",
       "      <td>0.000000</td>\n",
       "      <td>0.000000</td>\n",
       "      <td>1.203125</td>\n",
       "      <td>0</td>\n",
       "    </tr>\n",
       "    <tr>\n",
       "      <th>4</th>\n",
       "      <td>2790-1</td>\n",
       "      <td>-0.0145</td>\n",
       "      <td>-0.017400</td>\n",
       "      <td>-0.980200</td>\n",
       "      <td>0.000000</td>\n",
       "      <td>-0.325195</td>\n",
       "      <td>0.000000</td>\n",
       "      <td>1.281250</td>\n",
       "      <td>0</td>\n",
       "    </tr>\n",
       "    <tr>\n",
       "      <th>...</th>\n",
       "      <td>...</td>\n",
       "      <td>...</td>\n",
       "      <td>...</td>\n",
       "      <td>...</td>\n",
       "      <td>...</td>\n",
       "      <td>...</td>\n",
       "      <td>...</td>\n",
       "      <td>...</td>\n",
       "      <td>...</td>\n",
       "    </tr>\n",
       "    <tr>\n",
       "      <th>389704</th>\n",
       "      <td>4232-0</td>\n",
       "      <td>-0.1515</td>\n",
       "      <td>-0.081200</td>\n",
       "      <td>-0.997600</td>\n",
       "      <td>-0.325195</td>\n",
       "      <td>0.325195</td>\n",
       "      <td>0.000000</td>\n",
       "      <td>3.062500</td>\n",
       "      <td>0</td>\n",
       "    </tr>\n",
       "    <tr>\n",
       "      <th>389705</th>\n",
       "      <td>4232-0</td>\n",
       "      <td>-0.1602</td>\n",
       "      <td>-0.078300</td>\n",
       "      <td>-1.006300</td>\n",
       "      <td>-0.650391</td>\n",
       "      <td>0.000000</td>\n",
       "      <td>0.000000</td>\n",
       "      <td>2.437500</td>\n",
       "      <td>0</td>\n",
       "    </tr>\n",
       "    <tr>\n",
       "      <th>389706</th>\n",
       "      <td>4232-0</td>\n",
       "      <td>-0.1689</td>\n",
       "      <td>-0.069600</td>\n",
       "      <td>-1.003400</td>\n",
       "      <td>-0.325195</td>\n",
       "      <td>0.000000</td>\n",
       "      <td>0.000000</td>\n",
       "      <td>1.953125</td>\n",
       "      <td>0</td>\n",
       "    </tr>\n",
       "    <tr>\n",
       "      <th>389707</th>\n",
       "      <td>4232-0</td>\n",
       "      <td>-0.1747</td>\n",
       "      <td>-0.069600</td>\n",
       "      <td>-1.000500</td>\n",
       "      <td>-0.325195</td>\n",
       "      <td>0.000000</td>\n",
       "      <td>-0.325195</td>\n",
       "      <td>1.359375</td>\n",
       "      <td>0</td>\n",
       "    </tr>\n",
       "    <tr>\n",
       "      <th>389708</th>\n",
       "      <td>4232-0</td>\n",
       "      <td>-0.1718</td>\n",
       "      <td>-0.075400</td>\n",
       "      <td>-0.997600</td>\n",
       "      <td>-0.325195</td>\n",
       "      <td>0.000000</td>\n",
       "      <td>0.000000</td>\n",
       "      <td>0.843750</td>\n",
       "      <td>0</td>\n",
       "    </tr>\n",
       "  </tbody>\n",
       "</table>\n",
       "<p>389709 rows × 9 columns</p>\n",
       "</div>"
      ],
      "text/plain": [
       "       vtti.file_id  vtti.accel_x vtti.accel_y vtti.accel_z vtti.gyro_x  \\\n",
       "0            2790-1        0.0174    -0.020300    -0.983100    0.000000   \n",
       "1            2790-1       -0.0087    -0.020300    -0.983100    0.000000   \n",
       "2            2790-1       -0.0145    -0.023200    -0.986000    0.000000   \n",
       "3            2790-1       -0.0145    -0.020300    -0.986000    0.000000   \n",
       "4            2790-1       -0.0145    -0.017400    -0.980200    0.000000   \n",
       "...             ...           ...          ...          ...         ...   \n",
       "389704       4232-0       -0.1515    -0.081200    -0.997600   -0.325195   \n",
       "389705       4232-0       -0.1602    -0.078300    -1.006300   -0.650391   \n",
       "389706       4232-0       -0.1689    -0.069600    -1.003400   -0.325195   \n",
       "389707       4232-0       -0.1747    -0.069600    -1.000500   -0.325195   \n",
       "389708       4232-0       -0.1718    -0.075400    -0.997600   -0.325195   \n",
       "\n",
       "       vtti.gyro_y vtti.gyro_z  vtti.speed_network  target_critical_event  \n",
       "0        -0.325195    0.000000            0.921875                      0  \n",
       "1        -0.325195    0.000000            1.062500                      0  \n",
       "2        -0.325195    0.000000            1.140625                      0  \n",
       "3         0.000000    0.000000            1.203125                      0  \n",
       "4        -0.325195    0.000000            1.281250                      0  \n",
       "...            ...         ...                 ...                    ...  \n",
       "389704    0.325195    0.000000            3.062500                      0  \n",
       "389705    0.000000    0.000000            2.437500                      0  \n",
       "389706    0.000000    0.000000            1.953125                      0  \n",
       "389707    0.000000   -0.325195            1.359375                      0  \n",
       "389708    0.000000    0.000000            0.843750                      0  \n",
       "\n",
       "[389709 rows x 9 columns]"
      ]
     },
     "execution_count": 6,
     "metadata": {},
     "output_type": "execute_result"
    }
   ],
   "source": [
    "df0.drop(columns=['Unnamed: 0'], inplace=True)\n",
    "df0.drop(columns=['vtti.latitude', 'vtti.longitude', 'vtti.speed_gps', 'vtti.cruise_state'], inplace=True)\n",
    "df0.drop(columns=['vtti.timestamp'], inplace=True)\n",
    "df0.reset_index(drop=True, inplace=True)\n",
    "df0"
   ]
  },
  {
   "cell_type": "code",
   "execution_count": 7,
   "metadata": {
    "id": "L04p4vnh4dNs"
   },
   "outputs": [],
   "source": [
    "# indice de tous les event=1 (avant labellisation)\n",
    "list_index = df0[df0['target_critical_event'] == 1].index\n",
    "\n",
    "# labellisation\n",
    "def ext_target(df_target, list_index, task='classification'):\n",
    "    df = df_target.copy()\n",
    "    \n",
    "    if task=='classification':\n",
    "        if list_index[0] >29 :\n",
    "            df.loc[list_index[0]-29:list_index[0],'target_critical_event']=1\n",
    "        else : \n",
    "            df.loc[0:list_index[0],'target_critical_event']=1\n",
    "\n",
    "        for i in range(len(list_index)-1) :\n",
    "            if list_index[i+1]-list_index[i]>30:\n",
    "                df.loc[list_index[i+1]-29:list_index[i+1],'target_critical_event']=1\n",
    "            else : \n",
    "                df.loc[list_index[i]:list_index[i+1],'target_critical_event']=1\n",
    "                \n",
    "    else :  # regression\n",
    "        if list_index[0] >29 :\n",
    "            df.loc[list_index[0]-29:list_index[0],'target_critical_event']=[np.exp(-x/8) for x in range(29,-1,-1)]\n",
    "        else : \n",
    "            df.loc[0:list_index[0],'target_critical_event']=[np.exp(-x/8) for x in range(list_index[0],-1,-1)]\n",
    "\n",
    "        for i in range(len(list_index)-1) :\n",
    "            delta=list_index[i+1]-list_index[i]\n",
    "            if delta > 30:\n",
    "                df.loc[list_index[i+1]-29:list_index[i+1],'target_critical_event']=[np.exp(-x/8) for x in range(29,-1,-1)]\n",
    "            else : \n",
    "                df.loc[list_index[i]+1:list_index[i+1],'target_critical_event']=[np.exp(-x/8) for x in range(delta-1,-1,-1)]\n",
    "    return (df)"
   ]
  },
  {
   "cell_type": "code",
   "execution_count": 8,
   "metadata": {
    "id": "ZQr5HH004dQf"
   },
   "outputs": [],
   "source": [
    "try:\n",
    "    df_class, df_reg = ext_target(df0, list_index), \\\n",
    "                        ext_target(df0, list_index, task='regression')\n",
    "except:\n",
    "    print(\"no critical event\")"
   ]
  },
  {
   "cell_type": "code",
   "execution_count": 9,
   "metadata": {
    "id": "1S_avV-64dTX"
   },
   "outputs": [],
   "source": [
    "df_class = df_class.loc[set(range(len(df0)))-set(list_index),:]\n",
    "df_reg = df_reg.loc[set(range(len(df0)))-set(list_index),:]"
   ]
  },
  {
   "cell_type": "code",
   "execution_count": 10,
   "metadata": {
    "colab": {
     "base_uri": "https://localhost:8080/"
    },
    "id": "Uh5SXF7J4dWh",
    "outputId": "663b2d4f-2089-474b-8c3d-7270b6737452"
   },
   "outputs": [
    {
     "data": {
      "text/plain": [
       "0    389291\n",
       "1       404\n",
       "Name: target_critical_event, dtype: int64"
      ]
     },
     "execution_count": 10,
     "metadata": {},
     "output_type": "execute_result"
    }
   ],
   "source": [
    "df_class['target_critical_event'].value_counts()"
   ]
  },
  {
   "cell_type": "code",
   "execution_count": 12,
   "metadata": {},
   "outputs": [],
   "source": [
    "# Test - Découpe non aléatoire en raison des dépendances avec le temps en 80:20 \n",
    "\n",
    "df_test = df_class.copy()\n",
    "df_test_reg = df_reg.copy()\n",
    "\n",
    "x = df_test.drop(columns='target_critical_event')\n",
    "y = df_test['target_critical_event']\n",
    "\n",
    "x_train, y_train = x[:(4*len(x))//5], y[:(4*len(x))//5]\n",
    "x_test, y_test = x[(4*len(x))//5:], y[(4*len(x))//5:]"
   ]
  },
  {
   "cell_type": "code",
   "execution_count": 13,
   "metadata": {},
   "outputs": [],
   "source": [
    "def viz_dist_train_test(col, name, \\\n",
    "                        x_train, \\\n",
    "                        y_train, \\\n",
    "                        x_test, \\\n",
    "                        y_test, \\\n",
    "                        title_1 = 'Distribution for the Train Set', title_2 = 'Distribution for the Test Set', num_type=True) :\n",
    "    if x_train.shape == x_test.shape : #Permet d'utiliser la même fonction selon que l'on découpe le set en train/test ou non \n",
    "        plt.figure()\n",
    "        g = sns.kdeplot(x_train[col][(y_train == 0)], color=\"Red\", shade=True)\n",
    "        g = sns.kdeplot(x_train[col][(y_train == 1)], ax=g, color=\"Blue\", shade=True)\n",
    "        g.set_xlabel(name)\n",
    "        g.set_ylabel(\"Frequency\")\n",
    "        g.set_title(title_1)\n",
    "        g = g.legend([\"No Critical Event\",\"Critical Event\"])\n",
    "        plt.show()\n",
    "    else : \n",
    "        plt.subplots(1,2,figsize=(15,5))\n",
    "        plt.subplot(1,2,1)\n",
    "        g = sns.kdeplot(x_train[col][(y_train == 0)], color=\"Red\", shade = True)\n",
    "        g = sns.kdeplot(x_train[col][(y_train == 1)], ax =g, color=\"Blue\", shade= True)\n",
    "        g.set_xlabel(name)\n",
    "        g.set_ylabel(\"Frequency\")\n",
    "        g.set_title(title_1)\n",
    "        g = g.legend([\"No Critical Event\",\"Critical Event\"])\n",
    "        plt.subplot(1,2,2)\n",
    "        g = sns.kdeplot(x_test[col][(y_test == 0)], color=\"Red\", shade = True)\n",
    "        g = sns.kdeplot(x_test[col][(y_test == 1)], ax =g, color=\"Blue\", shade= True)\n",
    "        g.set_xlabel(name)\n",
    "        g.set_ylabel(\"Frequency\")\n",
    "        g.set_title(title_2)\n",
    "        g = g.legend([\"No Critical Event\",\"Critical Event\"])\n",
    "        plt.show()"
   ]
  },
  {
   "cell_type": "code",
   "execution_count": 14,
   "metadata": {},
   "outputs": [
    {
     "data": {
      "image/png": "[encoded data removed]",
      "text/plain": [
       "<Figure size 1080x360 with 2 Axes>"
      ]
     },
     "metadata": {
      "needs_background": "light"
     },
     "output_type": "display_data"
    }
   ],
   "source": [
    "# Distribution of the train and test datasets (!!! linear interpolation of speed_network done in Dataset_Cleaner)\n",
    "viz_dist_train_test('vtti.speed_network', 'Speed network', x_train, y_train, x_test, y_test)"
   ]
  },
  {
   "cell_type": "markdown",
   "metadata": {},
   "source": [
    "Observation : Distributions des critical events trop differentes entre train (80% des premiers fichiers du dataset) et test (20%)"
   ]
  },
  {
   "cell_type": "markdown",
   "metadata": {},
   "source": [
    "### 2eme test : répartition des fichiers selon un split ratio 75:15 (train:test) puis 75:15 (train:val) sans les critical_target=1, puis distribution à peu près équitable de ces critical_target=1 dans chacun des sets"
   ]
  },
  {
   "cell_type": "markdown",
   "metadata": {},
   "source": [
    "Vérifier combien de critical_target_event=1 il y a dans chaque fichier et les répartir assez équitablement dans chacun des sets"
   ]
  },
  {
   "cell_type": "code",
   "execution_count": 16,
   "metadata": {},
   "outputs": [
    {
     "name": "stdout",
     "output_type": "stream",
     "text": [
      "datasets_bag\\3380-0.csv\n",
      "0    42978\n",
      "1        1\n",
      "Name: target_critical_event, dtype: int64\n",
      "datasets_bag\\3108-0.csv\n",
      "0    22354\n",
      "1        1\n",
      "Name: target_critical_event, dtype: int64\n",
      "datasets_bag\\4208-2.csv\n",
      "0    12299\n",
      "1        5\n",
      "Name: target_critical_event, dtype: int64\n",
      "datasets_bag\\3014-2.csv\n",
      "0    14231\n",
      "1        1\n",
      "Name: target_critical_event, dtype: int64\n",
      "datasets_bag\\3562-3.csv\n",
      "0    9172\n",
      "1       3\n",
      "Name: target_critical_event, dtype: int64\n",
      "datasets_bag\\3342-3.csv\n",
      "0    9412\n",
      "1       1\n",
      "Name: target_critical_event, dtype: int64\n",
      "datasets_bag\\4232-0.csv\n",
      "0    22585\n",
      "1        2\n",
      "Name: target_critical_event, dtype: int64\n",
      "--------POUR LE TRAIN :\n",
      "['datasets_bag\\\\3380-0.csv', 'datasets_bag\\\\3108-0.csv', 'datasets_bag\\\\4208-2.csv']\n",
      "--------POUR LE VAL :\n",
      "['datasets_bag\\\\3014-2.csv', 'datasets_bag\\\\3562-3.csv']\n",
      "--------POUR LE TEST :\n",
      "['datasets_bag\\\\3342-3.csv', 'datasets_bag\\\\4232-0.csv']\n"
     ]
    }
   ],
   "source": [
    "# Check la liste des files qui contiennent au moins un critical_event=1\n",
    "# y en a que 7 sur 83\n",
    "# répartir ces fichiers-là équitablement dans les train-test-validation sets pour que chacun en ait autant\n",
    "# donc dans un premier temps, on les répartis dans des fichiers préliminaires, qui seront destinés\n",
    "# à être mis ensuite dans les train-val-test finaux une fois que ces derniers soient splités selon un certain ratio\n",
    "# NB : à améliorer car il y a parfois les fichiers ayant le plus de critical_event=1 qui se retrouvent dans le val ou le test\n",
    "# -> il faut pour le moment exécuter plusieurs jusqu'à ce qu'on obtienne une répartition qui nous parait assez juste\n",
    "\n",
    "np.random.shuffle(bag)\n",
    "goto_train = []\n",
    "goto_val = []\n",
    "goto_test = []\n",
    "count = 0\n",
    "\n",
    "for minifile in bag:\n",
    "    df = pd.read_csv(minifile)\n",
    "    #print(df['target_critical_event'].value_counts())\n",
    "    #print(\"\\n\")\n",
    "    if (1 in df['target_critical_event'].values):\n",
    "        print(minifile)\n",
    "        print(df['target_critical_event'].value_counts())\n",
    "        count += 1\n",
    "        if count<=3:\n",
    "            goto_train.append(minifile)\n",
    "        if (count>3 and count<6):\n",
    "            goto_val.append(minifile)\n",
    "        if count>=6:\n",
    "            goto_test.append(minifile)\n",
    "\n",
    "print(\"--------POUR LE TRAIN :\")\n",
    "print(goto_train)\n",
    "print(\"--------POUR LE VAL :\")\n",
    "print(goto_val)\n",
    "print(\"--------POUR LE TEST :\")\n",
    "print(goto_test)"
   ]
  },
  {
   "cell_type": "code",
   "execution_count": 17,
   "metadata": {},
   "outputs": [
    {
     "data": {
      "text/plain": [
       "76"
      ]
     },
     "execution_count": 17,
     "metadata": {},
     "output_type": "execute_result"
    }
   ],
   "source": [
    "#bag_without_critical_event = set(bag) - set(goto_train) - set(goto_val) - set(goto_test)  # can't use 'set' here..\n",
    "bag_critical = goto_train + goto_val + goto_test\n",
    "bag_without_critical_event = [file for file in bag if file not in bag_critical]\n",
    "len(bag_without_critical_event)"
   ]
  },
  {
   "cell_type": "code",
   "execution_count": 18,
   "metadata": {},
   "outputs": [
    {
     "name": "stdout",
     "output_type": "stream",
     "text": [
      "54\n",
      "10\n",
      "12\n"
     ]
    }
   ],
   "source": [
    "train_bag0, test_bag0 = train_test_split(bag_without_critical_event, test_size=0.15, random_state=42)\n",
    "train_bag0, val_bag0 = train_test_split(train_bag0, test_size=0.15, random_state=42)\n",
    "\n",
    "print(len(train_bag0))\n",
    "print(len(val_bag0))\n",
    "print(len(test_bag0))"
   ]
  },
  {
   "cell_type": "code",
   "execution_count": 19,
   "metadata": {},
   "outputs": [
    {
     "name": "stdout",
     "output_type": "stream",
     "text": [
      "57\n",
      "12\n",
      "14\n"
     ]
    }
   ],
   "source": [
    "# une fois le dataset ayant été splité, on attribue à chacun des sets leur portion de critical events\n",
    "\n",
    "train_bag = train_bag0 + goto_train\n",
    "val_bag = val_bag0 + goto_val\n",
    "test_bag = test_bag0 + goto_test\n",
    "\n",
    "np.random.shuffle(train_bag)\n",
    "np.random.shuffle(val_bag)\n",
    "np.random.shuffle(test_bag)\n",
    "\n",
    "print(len(train_bag))\n",
    "print(len(val_bag))\n",
    "print(len(test_bag))"
   ]
  },
  {
   "cell_type": "code",
   "execution_count": 20,
   "metadata": {},
   "outputs": [
    {
     "name": "stdout",
     "output_type": "stream",
     "text": [
      "273178\n",
      "54881\n",
      "61650\n"
     ]
    }
   ],
   "source": [
    "# lectures des fichiers et création des dataframes pour chacun des sets\n",
    "\n",
    "def readfiles(bag):\n",
    "    df_list = []\n",
    "    for minifile in bag:\n",
    "            df = pd.read_csv(minifile)\n",
    "            df_list.append(df)\n",
    "    df0 = pd.concat(df_list)\n",
    "    return df0\n",
    "    \n",
    "    \n",
    "df0_train = readfiles(train_bag)\n",
    "df0_val = readfiles(val_bag)\n",
    "df0_test = readfiles(test_bag)\n",
    "\n",
    "print(len(df0_train))\n",
    "print(len(df0_val))\n",
    "print(len(df0_test))"
   ]
  },
  {
   "cell_type": "code",
   "execution_count": null,
   "metadata": {},
   "outputs": [],
   "source": [
    "# DISTRIBUTION CHECK"
   ]
  },
  {
   "cell_type": "code",
   "execution_count": 21,
   "metadata": {},
   "outputs": [
    {
     "data": {
      "text/html": [
       "<div>\n",
       "<style scoped>\n",
       "    .dataframe tbody tr th:only-of-type {\n",
       "        vertical-align: middle;\n",
       "    }\n",
       "\n",
       "    .dataframe tbody tr th {\n",
       "        vertical-align: top;\n",
       "    }\n",
       "\n",
       "    .dataframe thead th {\n",
       "        text-align: right;\n",
       "    }\n",
       "</style>\n",
       "<table border=\"1\" class=\"dataframe\">\n",
       "  <thead>\n",
       "    <tr style=\"text-align: right;\">\n",
       "      <th></th>\n",
       "      <th>vtti.timestamp</th>\n",
       "      <th>vtti.file_id</th>\n",
       "      <th>vtti.accel_x</th>\n",
       "      <th>vtti.accel_y</th>\n",
       "      <th>vtti.accel_z</th>\n",
       "      <th>vtti.cruise_state</th>\n",
       "      <th>vtti.gyro_x</th>\n",
       "      <th>vtti.gyro_y</th>\n",
       "      <th>vtti.gyro_z</th>\n",
       "      <th>vtti.latitude</th>\n",
       "      <th>vtti.longitude</th>\n",
       "      <th>vtti.speed_gps</th>\n",
       "      <th>vtti.speed_network</th>\n",
       "      <th>target_critical_event</th>\n",
       "    </tr>\n",
       "  </thead>\n",
       "  <tbody>\n",
       "    <tr>\n",
       "      <th>0</th>\n",
       "      <td>2000.0</td>\n",
       "      <td>3380-0</td>\n",
       "      <td>-0.0152</td>\n",
       "      <td>0.020300</td>\n",
       "      <td>-0.980200</td>\n",
       "      <td>0.0</td>\n",
       "      <td>0.000000</td>\n",
       "      <td>0.000000</td>\n",
       "      <td>-0.325195</td>\n",
       "      <td></td>\n",
       "      <td></td>\n",
       "      <td></td>\n",
       "      <td>1.312500</td>\n",
       "      <td>0</td>\n",
       "    </tr>\n",
       "    <tr>\n",
       "      <th>1</th>\n",
       "      <td>2100.0</td>\n",
       "      <td>3380-0</td>\n",
       "      <td>-0.0152</td>\n",
       "      <td>0.017400</td>\n",
       "      <td>-0.983100</td>\n",
       "      <td>0.0</td>\n",
       "      <td>0.000000</td>\n",
       "      <td>0.000000</td>\n",
       "      <td>-0.325195</td>\n",
       "      <td></td>\n",
       "      <td></td>\n",
       "      <td></td>\n",
       "      <td>1.062500</td>\n",
       "      <td>0</td>\n",
       "    </tr>\n",
       "    <tr>\n",
       "      <th>2</th>\n",
       "      <td>2200.0</td>\n",
       "      <td>3380-0</td>\n",
       "      <td>-0.0152</td>\n",
       "      <td>0.020300</td>\n",
       "      <td>-0.980200</td>\n",
       "      <td>0.0</td>\n",
       "      <td></td>\n",
       "      <td></td>\n",
       "      <td></td>\n",
       "      <td></td>\n",
       "      <td></td>\n",
       "      <td></td>\n",
       "      <td>0.906250</td>\n",
       "      <td>0</td>\n",
       "    </tr>\n",
       "    <tr>\n",
       "      <th>3</th>\n",
       "      <td>2300.0</td>\n",
       "      <td>3380-0</td>\n",
       "      <td>-0.0152</td>\n",
       "      <td>0.020300</td>\n",
       "      <td>-0.983100</td>\n",
       "      <td>0.0</td>\n",
       "      <td>0.000000</td>\n",
       "      <td>0.000000</td>\n",
       "      <td>0.000000</td>\n",
       "      <td></td>\n",
       "      <td></td>\n",
       "      <td></td>\n",
       "      <td>0.687500</td>\n",
       "      <td>0</td>\n",
       "    </tr>\n",
       "    <tr>\n",
       "      <th>4</th>\n",
       "      <td>2400.0</td>\n",
       "      <td>3380-0</td>\n",
       "      <td>-0.0152</td>\n",
       "      <td>0.023200</td>\n",
       "      <td>-0.983100</td>\n",
       "      <td>0.0</td>\n",
       "      <td>0.000000</td>\n",
       "      <td>0.000000</td>\n",
       "      <td>0.000000</td>\n",
       "      <td></td>\n",
       "      <td></td>\n",
       "      <td></td>\n",
       "      <td>0.468750</td>\n",
       "      <td>0</td>\n",
       "    </tr>\n",
       "    <tr>\n",
       "      <th>...</th>\n",
       "      <td>...</td>\n",
       "      <td>...</td>\n",
       "      <td>...</td>\n",
       "      <td>...</td>\n",
       "      <td>...</td>\n",
       "      <td>...</td>\n",
       "      <td>...</td>\n",
       "      <td>...</td>\n",
       "      <td>...</td>\n",
       "      <td>...</td>\n",
       "      <td>...</td>\n",
       "      <td>...</td>\n",
       "      <td>...</td>\n",
       "      <td>...</td>\n",
       "    </tr>\n",
       "    <tr>\n",
       "      <th>273173</th>\n",
       "      <td>128300.0</td>\n",
       "      <td>3310-0</td>\n",
       "      <td>-0.0783</td>\n",
       "      <td>0.017400</td>\n",
       "      <td>-0.988900</td>\n",
       "      <td>0.0</td>\n",
       "      <td>0.000000</td>\n",
       "      <td>0.000000</td>\n",
       "      <td>0.000000</td>\n",
       "      <td></td>\n",
       "      <td></td>\n",
       "      <td></td>\n",
       "      <td>1.671875</td>\n",
       "      <td>0</td>\n",
       "    </tr>\n",
       "    <tr>\n",
       "      <th>273174</th>\n",
       "      <td>128400.0</td>\n",
       "      <td>3310-0</td>\n",
       "      <td>-0.0754</td>\n",
       "      <td>0.000000</td>\n",
       "      <td>-0.988900</td>\n",
       "      <td>0.0</td>\n",
       "      <td>0.000000</td>\n",
       "      <td>0.000000</td>\n",
       "      <td>0.000000</td>\n",
       "      <td></td>\n",
       "      <td></td>\n",
       "      <td></td>\n",
       "      <td>1.242188</td>\n",
       "      <td>0</td>\n",
       "    </tr>\n",
       "    <tr>\n",
       "      <th>273175</th>\n",
       "      <td>128500.0</td>\n",
       "      <td>3310-0</td>\n",
       "      <td>-0.0754</td>\n",
       "      <td>0.000000</td>\n",
       "      <td>-0.994700</td>\n",
       "      <td>0.0</td>\n",
       "      <td>0.000000</td>\n",
       "      <td>-0.325195</td>\n",
       "      <td>0.000000</td>\n",
       "      <td></td>\n",
       "      <td></td>\n",
       "      <td></td>\n",
       "      <td>0.812500</td>\n",
       "      <td>0</td>\n",
       "    </tr>\n",
       "    <tr>\n",
       "      <th>273176</th>\n",
       "      <td>128600.0</td>\n",
       "      <td>3310-0</td>\n",
       "      <td>-0.0696</td>\n",
       "      <td>0.005800</td>\n",
       "      <td>-0.997600</td>\n",
       "      <td>0.0</td>\n",
       "      <td>0.000000</td>\n",
       "      <td>0.000000</td>\n",
       "      <td>0.000000</td>\n",
       "      <td></td>\n",
       "      <td></td>\n",
       "      <td></td>\n",
       "      <td>0.437500</td>\n",
       "      <td>0</td>\n",
       "    </tr>\n",
       "    <tr>\n",
       "      <th>273177</th>\n",
       "      <td>128700.0</td>\n",
       "      <td>3310-0</td>\n",
       "      <td>-0.0319</td>\n",
       "      <td>0.005800</td>\n",
       "      <td>-0.988900</td>\n",
       "      <td>0.0</td>\n",
       "      <td>0.000000</td>\n",
       "      <td>0.000000</td>\n",
       "      <td>0.000000</td>\n",
       "      <td></td>\n",
       "      <td></td>\n",
       "      <td></td>\n",
       "      <td>0.062500</td>\n",
       "      <td>0</td>\n",
       "    </tr>\n",
       "  </tbody>\n",
       "</table>\n",
       "<p>273178 rows × 14 columns</p>\n",
       "</div>"
      ],
      "text/plain": [
       "        vtti.timestamp vtti.file_id  vtti.accel_x vtti.accel_y vtti.accel_z  \\\n",
       "0               2000.0       3380-0       -0.0152     0.020300    -0.980200   \n",
       "1               2100.0       3380-0       -0.0152     0.017400    -0.983100   \n",
       "2               2200.0       3380-0       -0.0152     0.020300    -0.980200   \n",
       "3               2300.0       3380-0       -0.0152     0.020300    -0.983100   \n",
       "4               2400.0       3380-0       -0.0152     0.023200    -0.983100   \n",
       "...                ...          ...           ...          ...          ...   \n",
       "273173        128300.0       3310-0       -0.0783     0.017400    -0.988900   \n",
       "273174        128400.0       3310-0       -0.0754     0.000000    -0.988900   \n",
       "273175        128500.0       3310-0       -0.0754     0.000000    -0.994700   \n",
       "273176        128600.0       3310-0       -0.0696     0.005800    -0.997600   \n",
       "273177        128700.0       3310-0       -0.0319     0.005800    -0.988900   \n",
       "\n",
       "       vtti.cruise_state vtti.gyro_x vtti.gyro_y vtti.gyro_z vtti.latitude  \\\n",
       "0                    0.0    0.000000    0.000000   -0.325195                 \n",
       "1                    0.0    0.000000    0.000000   -0.325195                 \n",
       "2                    0.0                                                     \n",
       "3                    0.0    0.000000    0.000000    0.000000                 \n",
       "4                    0.0    0.000000    0.000000    0.000000                 \n",
       "...                  ...         ...         ...         ...           ...   \n",
       "273173               0.0    0.000000    0.000000    0.000000                 \n",
       "273174               0.0    0.000000    0.000000    0.000000                 \n",
       "273175               0.0    0.000000   -0.325195    0.000000                 \n",
       "273176               0.0    0.000000    0.000000    0.000000                 \n",
       "273177               0.0    0.000000    0.000000    0.000000                 \n",
       "\n",
       "       vtti.longitude vtti.speed_gps  vtti.speed_network  \\\n",
       "0                                               1.312500   \n",
       "1                                               1.062500   \n",
       "2                                               0.906250   \n",
       "3                                               0.687500   \n",
       "4                                               0.468750   \n",
       "...               ...            ...                 ...   \n",
       "273173                                          1.671875   \n",
       "273174                                          1.242188   \n",
       "273175                                          0.812500   \n",
       "273176                                          0.437500   \n",
       "273177                                          0.062500   \n",
       "\n",
       "        target_critical_event  \n",
       "0                           0  \n",
       "1                           0  \n",
       "2                           0  \n",
       "3                           0  \n",
       "4                           0  \n",
       "...                       ...  \n",
       "273173                      0  \n",
       "273174                      0  \n",
       "273175                      0  \n",
       "273176                      0  \n",
       "273177                      0  \n",
       "\n",
       "[273178 rows x 14 columns]"
      ]
     },
     "execution_count": 21,
     "metadata": {},
     "output_type": "execute_result"
    }
   ],
   "source": [
    "df0_train.drop(columns=['Unnamed: 0'], inplace=True)\n",
    "df0_train.reset_index(drop=True, inplace=True)\n",
    "df0_train"
   ]
  },
  {
   "cell_type": "code",
   "execution_count": 22,
   "metadata": {},
   "outputs": [
    {
     "data": {
      "text/html": [
       "<div>\n",
       "<style scoped>\n",
       "    .dataframe tbody tr th:only-of-type {\n",
       "        vertical-align: middle;\n",
       "    }\n",
       "\n",
       "    .dataframe tbody tr th {\n",
       "        vertical-align: top;\n",
       "    }\n",
       "\n",
       "    .dataframe thead th {\n",
       "        text-align: right;\n",
       "    }\n",
       "</style>\n",
       "<table border=\"1\" class=\"dataframe\">\n",
       "  <thead>\n",
       "    <tr style=\"text-align: right;\">\n",
       "      <th></th>\n",
       "      <th>vtti.timestamp</th>\n",
       "      <th>vtti.file_id</th>\n",
       "      <th>vtti.accel_x</th>\n",
       "      <th>vtti.accel_y</th>\n",
       "      <th>vtti.accel_z</th>\n",
       "      <th>vtti.cruise_state</th>\n",
       "      <th>vtti.gyro_x</th>\n",
       "      <th>vtti.gyro_y</th>\n",
       "      <th>vtti.gyro_z</th>\n",
       "      <th>vtti.latitude</th>\n",
       "      <th>vtti.longitude</th>\n",
       "      <th>vtti.speed_gps</th>\n",
       "      <th>vtti.speed_network</th>\n",
       "      <th>target_critical_event</th>\n",
       "    </tr>\n",
       "  </thead>\n",
       "  <tbody>\n",
       "    <tr>\n",
       "      <th>0</th>\n",
       "      <td>125900.0</td>\n",
       "      <td>3989-0</td>\n",
       "      <td>0.0261</td>\n",
       "      <td>0.002900</td>\n",
       "      <td>-0.986000</td>\n",
       "      <td></td>\n",
       "      <td>0.000000</td>\n",
       "      <td>0.000000</td>\n",
       "      <td>-0.650391</td>\n",
       "      <td></td>\n",
       "      <td></td>\n",
       "      <td></td>\n",
       "      <td>1.046875</td>\n",
       "      <td>0</td>\n",
       "    </tr>\n",
       "    <tr>\n",
       "      <th>1</th>\n",
       "      <td>126000.0</td>\n",
       "      <td>3989-0</td>\n",
       "      <td>0.0290</td>\n",
       "      <td>0.011600</td>\n",
       "      <td>-0.983100</td>\n",
       "      <td></td>\n",
       "      <td>0.000000</td>\n",
       "      <td>0.000000</td>\n",
       "      <td>-0.975586</td>\n",
       "      <td></td>\n",
       "      <td></td>\n",
       "      <td></td>\n",
       "      <td>1.234375</td>\n",
       "      <td>0</td>\n",
       "    </tr>\n",
       "    <tr>\n",
       "      <th>2</th>\n",
       "      <td>126100.0</td>\n",
       "      <td>3989-0</td>\n",
       "      <td>0.0348</td>\n",
       "      <td>0.011600</td>\n",
       "      <td>-0.986000</td>\n",
       "      <td></td>\n",
       "      <td>0.000000</td>\n",
       "      <td>0.000000</td>\n",
       "      <td>-0.650391</td>\n",
       "      <td></td>\n",
       "      <td></td>\n",
       "      <td></td>\n",
       "      <td>1.437500</td>\n",
       "      <td>0</td>\n",
       "    </tr>\n",
       "    <tr>\n",
       "      <th>3</th>\n",
       "      <td>126200.0</td>\n",
       "      <td>3989-0</td>\n",
       "      <td>0.0435</td>\n",
       "      <td>0.014500</td>\n",
       "      <td>-0.986000</td>\n",
       "      <td></td>\n",
       "      <td></td>\n",
       "      <td></td>\n",
       "      <td></td>\n",
       "      <td></td>\n",
       "      <td></td>\n",
       "      <td></td>\n",
       "      <td>1.640625</td>\n",
       "      <td>0</td>\n",
       "    </tr>\n",
       "    <tr>\n",
       "      <th>4</th>\n",
       "      <td>126300.0</td>\n",
       "      <td>3989-0</td>\n",
       "      <td>0.0493</td>\n",
       "      <td>0.017400</td>\n",
       "      <td>-0.983100</td>\n",
       "      <td></td>\n",
       "      <td>0.000000</td>\n",
       "      <td>0.000000</td>\n",
       "      <td>-0.650391</td>\n",
       "      <td></td>\n",
       "      <td></td>\n",
       "      <td></td>\n",
       "      <td>1.828125</td>\n",
       "      <td>0</td>\n",
       "    </tr>\n",
       "    <tr>\n",
       "      <th>...</th>\n",
       "      <td>...</td>\n",
       "      <td>...</td>\n",
       "      <td>...</td>\n",
       "      <td>...</td>\n",
       "      <td>...</td>\n",
       "      <td>...</td>\n",
       "      <td>...</td>\n",
       "      <td>...</td>\n",
       "      <td>...</td>\n",
       "      <td>...</td>\n",
       "      <td>...</td>\n",
       "      <td>...</td>\n",
       "      <td>...</td>\n",
       "      <td>...</td>\n",
       "    </tr>\n",
       "    <tr>\n",
       "      <th>61645</th>\n",
       "      <td>451500.0</td>\n",
       "      <td>3130-2</td>\n",
       "      <td>-0.1225</td>\n",
       "      <td>0.026100</td>\n",
       "      <td>-0.997600</td>\n",
       "      <td>0.0</td>\n",
       "      <td>0.000000</td>\n",
       "      <td>0.000000</td>\n",
       "      <td>0.000000</td>\n",
       "      <td></td>\n",
       "      <td></td>\n",
       "      <td></td>\n",
       "      <td>2.265625</td>\n",
       "      <td>0</td>\n",
       "    </tr>\n",
       "    <tr>\n",
       "      <th>61646</th>\n",
       "      <td>451600.0</td>\n",
       "      <td>3130-2</td>\n",
       "      <td>-0.1254</td>\n",
       "      <td>0.023200</td>\n",
       "      <td>-1.006300</td>\n",
       "      <td>0.0</td>\n",
       "      <td>0.000000</td>\n",
       "      <td>0.000000</td>\n",
       "      <td>0.000000</td>\n",
       "      <td></td>\n",
       "      <td></td>\n",
       "      <td></td>\n",
       "      <td>1.765625</td>\n",
       "      <td>0</td>\n",
       "    </tr>\n",
       "    <tr>\n",
       "      <th>61647</th>\n",
       "      <td>451700.0</td>\n",
       "      <td>3130-2</td>\n",
       "      <td>-0.1225</td>\n",
       "      <td>0.023200</td>\n",
       "      <td>-1.000500</td>\n",
       "      <td>0.0</td>\n",
       "      <td>0.000000</td>\n",
       "      <td>0.000000</td>\n",
       "      <td>0.000000</td>\n",
       "      <td></td>\n",
       "      <td></td>\n",
       "      <td></td>\n",
       "      <td>1.320312</td>\n",
       "      <td>0</td>\n",
       "    </tr>\n",
       "    <tr>\n",
       "      <th>61648</th>\n",
       "      <td>451800.0</td>\n",
       "      <td>3130-2</td>\n",
       "      <td>-0.1196</td>\n",
       "      <td>0.023200</td>\n",
       "      <td>-1.000500</td>\n",
       "      <td>0.0</td>\n",
       "      <td></td>\n",
       "      <td></td>\n",
       "      <td></td>\n",
       "      <td></td>\n",
       "      <td></td>\n",
       "      <td></td>\n",
       "      <td>0.875000</td>\n",
       "      <td>0</td>\n",
       "    </tr>\n",
       "    <tr>\n",
       "      <th>61649</th>\n",
       "      <td>451900.0</td>\n",
       "      <td>3130-2</td>\n",
       "      <td>-0.1138</td>\n",
       "      <td>0.029000</td>\n",
       "      <td>-1.003400</td>\n",
       "      <td>0.0</td>\n",
       "      <td>0.000000</td>\n",
       "      <td>0.000000</td>\n",
       "      <td>0.000000</td>\n",
       "      <td></td>\n",
       "      <td></td>\n",
       "      <td></td>\n",
       "      <td>0.406250</td>\n",
       "      <td>0</td>\n",
       "    </tr>\n",
       "  </tbody>\n",
       "</table>\n",
       "<p>61650 rows × 14 columns</p>\n",
       "</div>"
      ],
      "text/plain": [
       "       vtti.timestamp vtti.file_id  vtti.accel_x vtti.accel_y vtti.accel_z  \\\n",
       "0            125900.0       3989-0        0.0261     0.002900    -0.986000   \n",
       "1            126000.0       3989-0        0.0290     0.011600    -0.983100   \n",
       "2            126100.0       3989-0        0.0348     0.011600    -0.986000   \n",
       "3            126200.0       3989-0        0.0435     0.014500    -0.986000   \n",
       "4            126300.0       3989-0        0.0493     0.017400    -0.983100   \n",
       "...               ...          ...           ...          ...          ...   \n",
       "61645        451500.0       3130-2       -0.1225     0.026100    -0.997600   \n",
       "61646        451600.0       3130-2       -0.1254     0.023200    -1.006300   \n",
       "61647        451700.0       3130-2       -0.1225     0.023200    -1.000500   \n",
       "61648        451800.0       3130-2       -0.1196     0.023200    -1.000500   \n",
       "61649        451900.0       3130-2       -0.1138     0.029000    -1.003400   \n",
       "\n",
       "      vtti.cruise_state vtti.gyro_x vtti.gyro_y vtti.gyro_z vtti.latitude  \\\n",
       "0                          0.000000    0.000000   -0.650391                 \n",
       "1                          0.000000    0.000000   -0.975586                 \n",
       "2                          0.000000    0.000000   -0.650391                 \n",
       "3                                                                           \n",
       "4                          0.000000    0.000000   -0.650391                 \n",
       "...                 ...         ...         ...         ...           ...   \n",
       "61645               0.0    0.000000    0.000000    0.000000                 \n",
       "61646               0.0    0.000000    0.000000    0.000000                 \n",
       "61647               0.0    0.000000    0.000000    0.000000                 \n",
       "61648               0.0                                                     \n",
       "61649               0.0    0.000000    0.000000    0.000000                 \n",
       "\n",
       "      vtti.longitude vtti.speed_gps  vtti.speed_network  target_critical_event  \n",
       "0                                              1.046875                      0  \n",
       "1                                              1.234375                      0  \n",
       "2                                              1.437500                      0  \n",
       "3                                              1.640625                      0  \n",
       "4                                              1.828125                      0  \n",
       "...              ...            ...                 ...                    ...  \n",
       "61645                                          2.265625                      0  \n",
       "61646                                          1.765625                      0  \n",
       "61647                                          1.320312                      0  \n",
       "61648                                          0.875000                      0  \n",
       "61649                                          0.406250                      0  \n",
       "\n",
       "[61650 rows x 14 columns]"
      ]
     },
     "execution_count": 22,
     "metadata": {},
     "output_type": "execute_result"
    }
   ],
   "source": [
    "df0_test.drop(columns=['Unnamed: 0'], inplace=True)\n",
    "df0_test.reset_index(drop=True, inplace=True)\n",
    "df0_test"
   ]
  },
  {
   "cell_type": "code",
   "execution_count": 23,
   "metadata": {},
   "outputs": [
    {
     "name": "stdout",
     "output_type": "stream",
     "text": [
      "Int64Index([18791, 53758, 190290, 190810, 190838, 192764, 193364], dtype='int64')\n",
      "Int64Index([12447, 14261, 54834], dtype='int64')\n"
     ]
    }
   ],
   "source": [
    "# indice de tous les event=1 (avant labellisation)\n",
    "list_index_train = df0_train[df0_train['target_critical_event'] == 1].index\n",
    "list_index_test = df0_test[df0_test['target_critical_event'] == 1].index\n",
    "\n",
    "print(list_index_train)\n",
    "print(list_index_test)"
   ]
  },
  {
   "cell_type": "code",
   "execution_count": 24,
   "metadata": {},
   "outputs": [],
   "source": [
    "# labellisation\n",
    "def ext_target(df_target, list_index, task='classification'):\n",
    "    df = df_target.copy()\n",
    "    \n",
    "    if task=='classification':\n",
    "        if list_index[0] >29 :\n",
    "            df.loc[list_index[0]-29:list_index[0],'target_critical_event']=1\n",
    "        else : \n",
    "            df.loc[0:list_index[0],'target_critical_event']=1\n",
    "\n",
    "        for i in range(len(list_index)-1) :\n",
    "            if list_index[i+1]-list_index[i]>30:\n",
    "                df.loc[list_index[i+1]-29:list_index[i+1],'target_critical_event']=1\n",
    "            else : \n",
    "                df.loc[list_index[i]:list_index[i+1],'target_critical_event']=1\n",
    "                \n",
    "    else :  # regression\n",
    "        if list_index[0] >29 :\n",
    "            df.loc[list_index[0]-29:list_index[0],'target_critical_event']=[np.exp(-x/8) for x in range(29,-1,-1)]\n",
    "        else : \n",
    "            df.loc[0:list_index[0],'target_critical_event']=[np.exp(-x/8) for x in range(list_index[0],-1,-1)]\n",
    "\n",
    "        for i in range(len(list_index)-1) :\n",
    "            delta=list_index[i+1]-list_index[i]\n",
    "            if delta > 30:\n",
    "                df.loc[list_index[i+1]-29:list_index[i+1],'target_critical_event']=[np.exp(-x/8) for x in range(29,-1,-1)]\n",
    "            else : \n",
    "                df.loc[list_index[i]+1:list_index[i+1],'target_critical_event']=[np.exp(-x/8) for x in range(delta-1,-1,-1)]\n",
    "    return (df)"
   ]
  },
  {
   "cell_type": "code",
   "execution_count": 25,
   "metadata": {},
   "outputs": [],
   "source": [
    "try:\n",
    "    df_class_train, df_reg_train = ext_target(df0_train, list_index_train), ext_target(df0_train, list_index_train, task='regression')\n",
    "    df_class_test, df_reg_test = ext_target(df0_test, list_index_test), ext_target(df0_test, list_index_test, task='regression')\n",
    "except:\n",
    "    print(\"no critical event\")"
   ]
  },
  {
   "cell_type": "code",
   "execution_count": 26,
   "metadata": {},
   "outputs": [],
   "source": [
    "df_class_train = df_class_train.loc[set(range(len(df0_train)))-set(list_index_train), :]\n",
    "df_reg_train = df_reg_train.loc[set(range(len(df0_train)))-set(list_index_train), :]\n",
    "\n",
    "df_class_test = df_class_test.loc[set(range(len(df0_test)))-set(list_index_test), :]\n",
    "df_reg_test = df_reg_test.loc[set(range(len(df0_test)))-set(list_index_test), :]"
   ]
  },
  {
   "cell_type": "code",
   "execution_count": 27,
   "metadata": {},
   "outputs": [
    {
     "data": {
      "text/plain": [
       "0    272970\n",
       "1       201\n",
       "Name: target_critical_event, dtype: int64"
      ]
     },
     "execution_count": 27,
     "metadata": {},
     "output_type": "execute_result"
    }
   ],
   "source": [
    "df_class_train['target_critical_event'].value_counts()"
   ]
  },
  {
   "cell_type": "code",
   "execution_count": 28,
   "metadata": {},
   "outputs": [
    {
     "data": {
      "text/plain": [
       "0    61560\n",
       "1       87\n",
       "Name: target_critical_event, dtype: int64"
      ]
     },
     "execution_count": 28,
     "metadata": {},
     "output_type": "execute_result"
    }
   ],
   "source": [
    "df_class_test['target_critical_event'].value_counts()"
   ]
  },
  {
   "cell_type": "code",
   "execution_count": 29,
   "metadata": {},
   "outputs": [],
   "source": [
    "# Distribution train et test\n",
    "\n",
    "x_train = df_class_train.drop(columns='target_critical_event')\n",
    "y_train = df_class_train['target_critical_event']\n",
    "x_test = df_class_test.drop(columns='target_critical_event')\n",
    "y_test = df_class_test['target_critical_event']"
   ]
  },
  {
   "cell_type": "code",
   "execution_count": 30,
   "metadata": {},
   "outputs": [],
   "source": [
    "def viz_dist_train_test(col, name, \\\n",
    "                        x_train, \\\n",
    "                        y_train, \\\n",
    "                        x_test, \\\n",
    "                        y_test, \\\n",
    "                        title_1 = 'Distribution for the Train Set', title_2 = 'Distribution for the Test Set', num_type=True) :\n",
    "    if x_train.shape == x_test.shape : #Permet d'utiliser la même fonction selon que l'on découpe le set en train/test ou non \n",
    "        plt.figure()\n",
    "        g = sns.kdeplot(x_train[col][(y_train == 0)], color=\"Red\", shade=True)\n",
    "        g = sns.kdeplot(x_train[col][(y_train == 1)], ax=g, color=\"Blue\", shade=True)\n",
    "        g.set_xlabel(name)\n",
    "        g.set_ylabel(\"Frequency\")\n",
    "        g.set_title(title_1)\n",
    "        g = g.legend([\"No Critical Event\",\"Critical Event\"])\n",
    "        plt.show()\n",
    "    else : \n",
    "        plt.subplots(1,2,figsize=(15,5))\n",
    "        plt.subplot(1,2,1)\n",
    "        g = sns.kdeplot(x_train[col][(y_train == 0)], color=\"Red\", shade = True)\n",
    "        g = sns.kdeplot(x_train[col][(y_train == 1)], ax =g, color=\"Blue\", shade= True)\n",
    "        g.set_xlabel(name)\n",
    "        g.set_ylabel(\"Frequency\")\n",
    "        g.set_title(title_1)\n",
    "        g = g.legend([\"No Critical Event\",\"Critical Event\"])\n",
    "        plt.subplot(1,2,2)\n",
    "        g = sns.kdeplot(x_test[col][(y_test == 0)], color=\"Red\", shade = True)\n",
    "        g = sns.kdeplot(x_test[col][(y_test == 1)], ax =g, color=\"Blue\", shade= True)\n",
    "        g.set_xlabel(name)\n",
    "        g.set_ylabel(\"Frequency\")\n",
    "        g.set_title(title_2)\n",
    "        g = g.legend([\"No Critical Event\",\"Critical Event\"])\n",
    "        plt.show()"
   ]
  },
  {
   "cell_type": "code",
   "execution_count": 31,
   "metadata": {},
   "outputs": [
    {
     "data": {
      "image/png": "[encoded data removed]",
      "text/plain": [
       "<Figure size 1080x360 with 2 Axes>"
      ]
     },
     "metadata": {
      "needs_background": "light"
     },
     "output_type": "display_data"
    }
   ],
   "source": [
    "# Distribution of the train and test datasets (!!! linear interpolation of speed_network done in Dataset_Cleaner)\n",
    "viz_dist_train_test('vtti.speed_network', 'Speed network', x_train, y_train, x_test, y_test)"
   ]
  },
  {
   "cell_type": "markdown",
   "metadata": {},
   "source": [
    "Conclusion :\n",
    "Même en s'arrangeant à bien répartir les critical_event=1 dans chacun des sets de façon assez équitable, et même en shufflant la répartition des fichiers de sorte que les sets n'aient pas les mêmes fichiers en réitérant l'expérience, les train et test sets finissent avec des distributions différentes. \n",
    "Je pense qu'il n'y a pas grand chose à faire, et que seul le fait d'avoir davantage de données pourrait peut-être palier à ce problème."
   ]
  },
  {
   "cell_type": "markdown",
   "metadata": {},
   "source": [
    "###  Quel degré d'interpolation choisir pour interpoler vitesses et accélérations manquantes ?"
   ]
  },
  {
   "cell_type": "code",
   "execution_count": 11,
   "metadata": {},
   "outputs": [
    {
     "name": "stdout",
     "output_type": "stream",
     "text": [
      "<class 'pandas.core.frame.DataFrame'>\n",
      "Int64Index: 389695 entries, 0 to 389708\n",
      "Data columns (total 9 columns):\n",
      " #   Column                 Non-Null Count   Dtype  \n",
      "---  ------                 --------------   -----  \n",
      " 0   vtti.file_id           389695 non-null  object \n",
      " 1   vtti.accel_x           388837 non-null  float64\n",
      " 2   vtti.accel_y           389695 non-null  object \n",
      " 3   vtti.accel_z           389695 non-null  object \n",
      " 4   vtti.gyro_x            389695 non-null  object \n",
      " 5   vtti.gyro_y            389695 non-null  object \n",
      " 6   vtti.gyro_z            389695 non-null  object \n",
      " 7   vtti.speed_network     389695 non-null  float64\n",
      " 8   target_critical_event  389695 non-null  int64  \n",
      "dtypes: float64(2), int64(1), object(6)\n",
      "memory usage: 29.7+ MB\n"
     ]
    }
   ],
   "source": [
    "dfc = df_class.copy()\n",
    "dfc.info()"
   ]
  },
  {
   "cell_type": "code",
   "execution_count": 13,
   "metadata": {},
   "outputs": [],
   "source": [
    "# convert objects into floats and '' (missing values) into NaN\n",
    "\n",
    "col_concerned = ['vtti.accel_x', 'vtti.accel_y', 'vtti.accel_z', \\\n",
    "                 'vtti.gyro_x', 'vtti.gyro_y', 'vtti.gyro_z']\n",
    "for col in dfc.columns:\n",
    "    if col in col_concerned:\n",
    "        dfc[col] = pd.to_numeric(dfc[col], downcast='float', errors='coerce')     "
   ]
  },
  {
   "cell_type": "code",
   "execution_count": 14,
   "metadata": {},
   "outputs": [
    {
     "name": "stdout",
     "output_type": "stream",
     "text": [
      "vtti.file_id, 0\n",
      "vtti.accel_x, 858\n",
      "vtti.accel_y, 858\n",
      "vtti.accel_z, 858\n",
      "vtti.gyro_x, 38516\n",
      "vtti.gyro_y, 38516\n",
      "vtti.gyro_z, 38526\n",
      "vtti.speed_network, 0\n",
      "target_critical_event, 0\n"
     ]
    }
   ],
   "source": [
    "# check how many NaN in each column\n",
    "for col in dfc.columns:\n",
    "    print(f'{col}, {dfc[str(col)].isna().sum()}')"
   ]
  },
  {
   "cell_type": "code",
   "execution_count": 15,
   "metadata": {},
   "outputs": [
    {
     "data": {
      "text/plain": [
       "<AxesSubplot:>"
      ]
     },
     "execution_count": 15,
     "metadata": {},
     "output_type": "execute_result"
    },
    {
     "data": {
      "image/png": "[encoded data removed]",
      "text/plain": [
       "<Figure size 432x288 with 1 Axes>"
      ]
     },
     "metadata": {
      "needs_background": "light"
     },
     "output_type": "display_data"
    }
   ],
   "source": [
    "# Sélectionne l'un des fichiers au pif\n",
    "dfc.loc[dfc['vtti.file_id'] == '2797-1']['vtti.speed_network'].plot.line()"
   ]
  },
  {
   "cell_type": "code",
   "execution_count": 16,
   "metadata": {},
   "outputs": [],
   "source": [
    "from sklearn.linear_model import Ridge\n",
    "from sklearn.preprocessing import PolynomialFeatures\n",
    "from sklearn.pipeline import make_pipeline"
   ]
  },
  {
   "cell_type": "code",
   "execution_count": 17,
   "metadata": {},
   "outputs": [
    {
     "name": "stderr",
     "output_type": "stream",
     "text": [
      "C:\\ProgramData\\Anaconda3\\lib\\site-packages\\sklearn\\linear_model\\_ridge.py:157: LinAlgWarning: Ill-conditioned matrix (rcond=2.05596e-19): result may not be accurate.\n",
      "  return linalg.solve(A, Xy, sym_pos=True, overwrite_a=True).T\n",
      "C:\\ProgramData\\Anaconda3\\lib\\site-packages\\sklearn\\linear_model\\_ridge.py:157: LinAlgWarning: Ill-conditioned matrix (rcond=3.73358e-24): result may not be accurate.\n",
      "  return linalg.solve(A, Xy, sym_pos=True, overwrite_a=True).T\n",
      "C:\\ProgramData\\Anaconda3\\lib\\site-packages\\sklearn\\linear_model\\_ridge.py:157: LinAlgWarning: Ill-conditioned matrix (rcond=9.82412e-19): result may not be accurate.\n",
      "  return linalg.solve(A, Xy, sym_pos=True, overwrite_a=True).T\n",
      "C:\\ProgramData\\Anaconda3\\lib\\site-packages\\sklearn\\linear_model\\_ridge.py:157: LinAlgWarning: Ill-conditioned matrix (rcond=2.79065e-23): result may not be accurate.\n",
      "  return linalg.solve(A, Xy, sym_pos=True, overwrite_a=True).T\n"
     ]
    },
    {
     "data": {
      "image/png": "[encoded data removed]",
      "text/plain": [
       "<Figure size 1080x360 with 2 Axes>"
      ]
     },
     "metadata": {
      "needs_background": "light"
     },
     "output_type": "display_data"
    }
   ],
   "source": [
    "plt.subplots(1,2,figsize=(15,5))\n",
    "plt.subplot(1,2,1)\n",
    "X = np.array(range(len(df.loc[dfc['vtti.file_id'] == '2797-1'][50:300].index))).reshape(-1,1)\n",
    "y = dfc.loc[dfc['vtti.file_id'] == '2797-1']['vtti.speed_network'][50:300]\n",
    "models = []\n",
    "for count, degree in enumerate([1, 2, 3, 4]):\n",
    "    model = make_pipeline(PolynomialFeatures(degree), Ridge(alpha=0.001))\n",
    "    model.fit(X, y)\n",
    "    models.append(model)\n",
    "    y_pred = model.predict(X)\n",
    "    plt.plot(X, y_pred, linewidth=2, label='degree %d' % degree)\n",
    "plt.legend(loc='upper left')\n",
    "plt.scatter(X, y, s=20, marker='o', label='training points')\n",
    "\n",
    "plt.subplot(1,2,2)\n",
    "X = np.array(range(len(dfc.loc[dfc['vtti.file_id'] == '2797-1'][100:300].index))).reshape(-1,1)\n",
    "y = dfc.loc[dfc['vtti.file_id'] == '2797-1']['vtti.speed_network'][100:300]\n",
    "models = []\n",
    "for count, degree in enumerate([1, 2, 3, 4]):\n",
    "    model = make_pipeline(PolynomialFeatures(degree), Ridge(alpha=0.001))\n",
    "    model.fit(X, y)\n",
    "    models.append(model)\n",
    "    y_pred = model.predict(X)\n",
    "    plt.plot(X, y_pred, linewidth=2, label='degree %d' % degree)\n",
    "plt.legend(loc='upper left')\n",
    "plt.scatter(X, y, s=20, marker='o', label='training points')\n",
    "plt.show()"
   ]
  },
  {
   "cell_type": "markdown",
   "metadata": {},
   "source": [
    "Observation : le polynôme de degré 3 semble bien convenir, ssi on interpole une plage de données manquantes qui n'est pas trop élevée (genre moins de 200 secondes).\n",
    "Au-delà de 200 secondes de données manquantes, le degré 3 donne n'importe quoi et il vaudrait mieux passer à un degré 4, bien que ce ne soit pas non plus le meilleur.\n",
    "Dans le Dataset_Cleaner on avait supprimé les zéros et données manquantes supérieurs à 180 sec, on estime donc qu'il n'y a plus de valeurs manquantes supérieures à 200 sec ici. Donc on peut garder l'interpolation de degré 3. On prendra un Cubic Spline interpolation."
   ]
  }
 ],
 "metadata": {
  "accelerator": "GPU",
  "colab": {
   "collapsed_sections": [],
   "name": "Untitled0.ipynb",
   "provenance": []
  },
  "kernelspec": {
   "display_name": "Python 3",
   "language": "python",
   "name": "python3"
  },
  "language_info": {
   "codemirror_mode": {
    "name": "ipython",
    "version": 3
   },
   "file_extension": ".py",
   "mimetype": "text/x-python",
   "name": "python",
   "nbconvert_exporter": "python",
   "pygments_lexer": "ipython3",
   "version": "3.8.5"
  }
 },
 "nbformat": 4,
 "nbformat_minor": 1
}
